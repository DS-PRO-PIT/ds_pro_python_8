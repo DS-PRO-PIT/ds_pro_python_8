{
 "cells": [
  {
   "cell_type": "markdown",
   "metadata": {},
   "source": [
    "# Игра угадай число"
   ]
  },
  {
   "cell_type": "markdown",
   "metadata": {},
   "source": [
    "*также смотри [технические данные о среде выполнения](#технические-данные-о-среде-выполнения)"
   ]
  },
  {
   "cell_type": "markdown",
   "metadata": {},
   "source": [
    "## Предпосылки"
   ]
  },
  {
   "cell_type": "markdown",
   "metadata": {},
   "source": [
    "Для завершения модуля \"PYTHON-8. Инструменты для Data Science\" ставится задача требующая навыков владения инструментами, изложенными в данном модуле. Для этого предоставляется код, созданный к этому моменту в рамках модуля."
   ]
  },
  {
   "cell_type": "markdown",
   "metadata": {},
   "source": [
    "Давайте проверим его работоспособность."
   ]
  },
  {
   "cell_type": "markdown",
   "metadata": {},
   "source": [
    "### Импортируем функции модуля"
   ]
  },
  {
   "cell_type": "code",
   "execution_count": 1,
   "metadata": {},
   "outputs": [],
   "source": [
    "from game_v2 import score_game\n",
    "from game_v2 import random_predict"
   ]
  },
  {
   "cell_type": "markdown",
   "metadata": {},
   "source": [
    "Здесь мы делаем доступными функции модуля game_v2:\n",
    "- *score_game* - функция, выявляющая через [среднее арифмитическое](https://ru.wikipedia.org/wiki/Среднее_арифметическое) за сколько попыток переданная ей функция поиска находит результат;\n",
    "- *random_predict* - функция поиска заданного числа [методом научного тыка](https://ru.wikipedia.org/wiki/Метод_проб_и_ошибок) без запоминания истории, возвращающая количество потребовавшихся попыток."
   ]
  },
  {
   "cell_type": "markdown",
   "metadata": {},
   "source": [
    "### Проверим работоспособность *random_predict* несколько раз"
   ]
  },
  {
   "cell_type": "code",
   "execution_count": 7,
   "metadata": {},
   "outputs": [
    {
     "name": "stdout",
     "output_type": "stream",
     "text": [
      "Ваш алгоритм угадывает число в среднем за:98 попыток\n",
      "Ваш алгоритм угадывает число в среднем за:96 попыток\n",
      "Ваш алгоритм угадывает число в среднем за:101 попыток\n",
      "Ваш алгоритм угадывает число в среднем за:96 попыток\n",
      "Ваш алгоритм угадывает число в среднем за:99 попыток\n"
     ]
    },
    {
     "data": {
      "text/plain": [
       "99"
      ]
     },
     "execution_count": 7,
     "metadata": {},
     "output_type": "execute_result"
    }
   ],
   "source": [
    "score_game(random_predict)\n",
    "score_game(random_predict)\n",
    "score_game(random_predict)\n",
    "score_game(random_predict)\n",
    "score_game(random_predict)"
   ]
  },
  {
   "cell_type": "markdown",
   "metadata": {},
   "source": [
    "Как видим, количество требующихся для нахождения заданного числа попыток варьируется около 100."
   ]
  },
  {
   "cell_type": "markdown",
   "metadata": {},
   "source": [
    "## Постановка задачи"
   ]
  },
  {
   "cell_type": "markdown",
   "metadata": {},
   "source": [
    "Взяв предоставленный код за отправную точку добиться следующего:\n",
    " - новая программа должна достигать результата меннее чем за 20 попыток;\n",
    " - код программы должен быть предоставлен через GitHub;\n",
    " - также, созданный для решения данной задачи код необходимо оформить соответствующим для GitHub образом;\n",
    " - поскольку код создаётся на языке Python он должен соответствовать PEP8;\n",
    " - как и любой другой код, необходимо, чтобы он был воспроизводим."
   ]
  },
  {
   "cell_type": "markdown",
   "metadata": {},
   "source": [
    "## Выбор алгоритма"
   ]
  },
  {
   "cell_type": "markdown",
   "metadata": {},
   "source": [
    "Возьмём за основу [алоритм бинарного поиска](https://ru.wikipedia.org/wiki/Двоичный_поиск). Следуя его правилам поиск числа от 1 до 100 не должен превысить 7 шагов.\n",
    "\n",
    "Так, например, если загадано число 1, то следуя правилу не оставлять ниже выбранного для попытки числа меньше вариантов чем выше, получим следующие шаги:\n",
    "1. 100/2 = 50 => 51\n",
    "2. 50/2 = 25 => 26\n",
    "3. 25/2 = 12.5 => 13\n",
    "4. 12/2 = 6 => 7\n",
    "5. 6/2 = 3 => 4\n",
    "6. 3/2 = 1.5 => 2\n",
    "7. 1/2 = 0.5 => 1"
   ]
  },
  {
   "cell_type": "markdown",
   "metadata": {},
   "source": [
    "## Организация кода"
   ]
  },
  {
   "cell_type": "markdown",
   "metadata": {},
   "source": [
    "Для обратной совместимости оставим предоставленный код в оригинальном виде. А новый код оформим в файле [*result_game.py*](result_game.py)."
   ]
  },
  {
   "cell_type": "markdown",
   "metadata": {},
   "source": [
    "### Функция поиска"
   ]
  },
  {
   "cell_type": "markdown",
   "metadata": {},
   "source": [
    "Создадим функцию *binary_search*:"
   ]
  },
  {
   "cell_type": "code",
   "execution_count": 55,
   "metadata": {},
   "outputs": [],
   "source": [
    "from math import log2\n",
    "\n",
    "def binary_search(hidden_number=1):\n",
    "    interval = (1, 101) # mathematially half-open left-closed interval - [1, 101)\n",
    "    max_attempts_to_panic = int(1 + log2(len(range(*interval))))\n",
    "    \n",
    "    for attempt_index in range(max_attempts_to_panic):\n",
    "        \n",
    "        predict_number = int(sum(interval) / 2)\n",
    "        \n",
    "        if predict_number == hidden_number:\n",
    "            return attempt_index+1\n",
    "\n",
    "        if predict_number < hidden_number:\n",
    "            interval = (predict_number+1, interval[1])\n",
    "        elif hidden_number < predict_number:\n",
    "            interval = (interval[0], predict_number)\n",
    "\n",
    "    raise RuntimeError('Algorithm working not like expected')"
   ]
  },
  {
   "cell_type": "markdown",
   "metadata": {},
   "source": [
    "И проверим её работоспособность уже имеющейся функцией *score_game*:"
   ]
  },
  {
   "cell_type": "code",
   "execution_count": 35,
   "metadata": {},
   "outputs": [
    {
     "name": "stdout",
     "output_type": "stream",
     "text": [
      "Ваш алгоритм угадывает число в среднем за:5 попыток\n",
      "Ваш алгоритм угадывает число в среднем за:5 попыток\n",
      "Ваш алгоритм угадывает число в среднем за:5 попыток\n",
      "Ваш алгоритм угадывает число в среднем за:5 попыток\n",
      "Ваш алгоритм угадывает число в среднем за:5 попыток\n"
     ]
    },
    {
     "data": {
      "text/plain": [
       "5"
      ]
     },
     "execution_count": 35,
     "metadata": {},
     "output_type": "execute_result"
    }
   ],
   "source": [
    "from game_v2 import score_game\n",
    "\n",
    "score_game(binary_search)\n",
    "score_game(binary_search)\n",
    "score_game(binary_search)\n",
    "score_game(binary_search)\n",
    "score_game(binary_search)"
   ]
  },
  {
   "cell_type": "markdown",
   "metadata": {},
   "source": [
    "Таким образом легко убедиться в значительном преимуществе функции *binary_search* перед изначальной *random_predict*."
   ]
  },
  {
   "cell_type": "markdown",
   "metadata": {},
   "source": [
    "Также, можно заметить, что функция *binary_search* использует самоограничение по количеству попыток. Это сделано для того для того, чтобы случайно внесённая (или не выявленная при создании функции) ошибка не приводила к бесконечному циклу.\n",
    "\n",
    "Убедимся в полезности этого самоограничения."
   ]
  },
  {
   "cell_type": "code",
   "execution_count": 56,
   "metadata": {},
   "outputs": [
    {
     "ename": "RuntimeError",
     "evalue": "Algorithm working not like expected",
     "output_type": "error",
     "traceback": [
      "\u001b[0;31m---------------------------------------------------------------------------\u001b[0m",
      "\u001b[0;31mRuntimeError\u001b[0m                              Traceback (most recent call last)",
      "\u001b[1;32m/home/user/github/python_8/game.ipynb Cell 25'\u001b[0m in \u001b[0;36m<cell line: 1>\u001b[0;34m()\u001b[0m\n\u001b[0;32m----> <a href='vscode-notebook-cell:/home/user/github/python_8/game.ipynb#ch0000034?line=0'>1</a>\u001b[0m binary_search(\u001b[39m0\u001b[39;49m)\n",
      "\u001b[1;32m/home/user/github/python_8/game.ipynb Cell 20'\u001b[0m in \u001b[0;36mbinary_search\u001b[0;34m(hidden_number)\u001b[0m\n\u001b[1;32m     <a href='vscode-notebook-cell:/home/user/github/python_8/game.ipynb#ch0000027?line=15'>16</a>\u001b[0m     \u001b[39melif\u001b[39;00m hidden_number \u001b[39m<\u001b[39m predict_number:\n\u001b[1;32m     <a href='vscode-notebook-cell:/home/user/github/python_8/game.ipynb#ch0000027?line=16'>17</a>\u001b[0m         interval \u001b[39m=\u001b[39m (interval[\u001b[39m0\u001b[39m], predict_number)\n\u001b[0;32m---> <a href='vscode-notebook-cell:/home/user/github/python_8/game.ipynb#ch0000027?line=18'>19</a>\u001b[0m \u001b[39mraise\u001b[39;00m \u001b[39mRuntimeError\u001b[39;00m(\u001b[39m'\u001b[39m\u001b[39mAlgorithm working not like expected\u001b[39m\u001b[39m'\u001b[39m)\n",
      "\u001b[0;31mRuntimeError\u001b[0m: Algorithm working not like expected"
     ]
    }
   ],
   "source": [
    "binary_search(0)"
   ]
  },
  {
   "cell_type": "markdown",
   "metadata": {},
   "source": [
    "Однако, если задать выходящее за диапазон число 101:"
   ]
  },
  {
   "cell_type": "code",
   "execution_count": 58,
   "metadata": {},
   "outputs": [
    {
     "data": {
      "text/plain": [
       "7"
      ]
     },
     "execution_count": 58,
     "metadata": {},
     "output_type": "execute_result"
    }
   ],
   "source": [
    "binary_search(101)"
   ]
  },
  {
   "cell_type": "markdown",
   "metadata": {},
   "source": [
    "То мы увидим, что фунция отработала, но не ожиданным образом. А именно нашла число не входящее в диапазон.\n",
    "\n",
    "Что очередной раз свидетельствует о необходимости проверки входных параметров. Доработаем функцию *binary_search*."
   ]
  },
  {
   "cell_type": "code",
   "execution_count": 59,
   "metadata": {},
   "outputs": [],
   "source": [
    "from math import log2\n",
    "\n",
    "def binary_search(hidden_number=1):\n",
    "    if not(1 <= hidden_number <= 100):\n",
    "        raise ValueError('Expected value from 1 to 100')\n",
    "    \n",
    "    interval = (1, 101) # mathematially half-open left-closed interval - [1, 101)\n",
    "    max_attempts_to_panic = int(1 + log2(len(range(*interval))))\n",
    "    \n",
    "    for attempt_index in range(max_attempts_to_panic):\n",
    "        \n",
    "        predict_number = int(sum(interval) / 2)\n",
    "        \n",
    "        if predict_number == hidden_number:\n",
    "            return attempt_index+1\n",
    "\n",
    "        if predict_number < hidden_number:\n",
    "            interval = (predict_number+1, interval[1])\n",
    "        elif hidden_number < predict_number:\n",
    "            interval = (interval[0], predict_number)\n",
    "\n",
    "    raise RuntimeError('Algorithm working not like expected')"
   ]
  },
  {
   "cell_type": "markdown",
   "metadata": {},
   "source": [
    "Проверим снова:"
   ]
  },
  {
   "cell_type": "code",
   "execution_count": 60,
   "metadata": {},
   "outputs": [
    {
     "ename": "ValueError",
     "evalue": "Expected value from 1 to 100",
     "output_type": "error",
     "traceback": [
      "\u001b[0;31m---------------------------------------------------------------------------\u001b[0m",
      "\u001b[0;31mValueError\u001b[0m                                Traceback (most recent call last)",
      "\u001b[1;32m/home/user/github/python_8/game.ipynb Cell 31'\u001b[0m in \u001b[0;36m<cell line: 1>\u001b[0;34m()\u001b[0m\n\u001b[0;32m----> <a href='vscode-notebook-cell:/home/user/github/python_8/game.ipynb#ch0000041?line=0'>1</a>\u001b[0m binary_search(\u001b[39m101\u001b[39;49m)\n",
      "\u001b[1;32m/home/user/github/python_8/game.ipynb Cell 29'\u001b[0m in \u001b[0;36mbinary_search\u001b[0;34m(hidden_number)\u001b[0m\n\u001b[1;32m      <a href='vscode-notebook-cell:/home/user/github/python_8/game.ipynb#ch0000039?line=2'>3</a>\u001b[0m \u001b[39mdef\u001b[39;00m \u001b[39mbinary_search\u001b[39m(hidden_number\u001b[39m=\u001b[39m\u001b[39m1\u001b[39m):\n\u001b[1;32m      <a href='vscode-notebook-cell:/home/user/github/python_8/game.ipynb#ch0000039?line=3'>4</a>\u001b[0m     \u001b[39mif\u001b[39;00m \u001b[39mnot\u001b[39;00m(\u001b[39m1\u001b[39m \u001b[39m<\u001b[39m\u001b[39m=\u001b[39m hidden_number \u001b[39m<\u001b[39m\u001b[39m=\u001b[39m \u001b[39m100\u001b[39m):\n\u001b[0;32m----> <a href='vscode-notebook-cell:/home/user/github/python_8/game.ipynb#ch0000039?line=4'>5</a>\u001b[0m         \u001b[39mraise\u001b[39;00m \u001b[39mValueError\u001b[39;00m(\u001b[39m'\u001b[39m\u001b[39mExpected value from 1 to 100\u001b[39m\u001b[39m'\u001b[39m)\n\u001b[1;32m      <a href='vscode-notebook-cell:/home/user/github/python_8/game.ipynb#ch0000039?line=6'>7</a>\u001b[0m     interval \u001b[39m=\u001b[39m (\u001b[39m1\u001b[39m, \u001b[39m101\u001b[39m) \u001b[39m# mathematially half-open left-closed interval - [1, 101)\u001b[39;00m\n\u001b[1;32m      <a href='vscode-notebook-cell:/home/user/github/python_8/game.ipynb#ch0000039?line=7'>8</a>\u001b[0m     max_attempts_to_panic \u001b[39m=\u001b[39m \u001b[39mint\u001b[39m(\u001b[39m1\u001b[39m \u001b[39m+\u001b[39m log2(\u001b[39mlen\u001b[39m(\u001b[39mrange\u001b[39m(\u001b[39m*\u001b[39minterval))))\n",
      "\u001b[0;31mValueError\u001b[0m: Expected value from 1 to 100"
     ]
    }
   ],
   "source": [
    "binary_search(101)"
   ]
  },
  {
   "cell_type": "markdown",
   "metadata": {},
   "source": [
    "Теперь можно сказать, что функция работает как надо. И хотя необходимость проверки входных параметров на соответсвие типу никто не отменял, будем считать, что поставленная задача выполнена. Поскольку в реальных задачах проверка входных параметров истекает из логики построения кода и излишние проверки только замедлят выполнение кода поставленной задачи."
   ]
  },
  {
   "cell_type": "markdown",
   "metadata": {},
   "source": [
    "## Технические данные о среде выполнения"
   ]
  },
  {
   "cell_type": "code",
   "execution_count": 4,
   "metadata": {},
   "outputs": [
    {
     "name": "stdout",
     "output_type": "stream",
     "text": [
      "3.9.12 (main, Apr 18 2022, 22:40:46) \n",
      "[GCC 9.4.0]\n"
     ]
    }
   ],
   "source": [
    "import sys\n",
    "print(sys.version)"
   ]
  },
  {
   "cell_type": "code",
   "execution_count": 10,
   "metadata": {},
   "outputs": [],
   "source": [
    "#pip freeze\n",
    "#pip freeze > requirements.txt\n",
    "#pip install -r requirements.txt"
   ]
  }
 ],
 "metadata": {
  "interpreter": {
   "hash": "f9f85f796d01129d0dd105a088854619f454435301f6ffec2fea96ecbd9be4ac"
  },
  "kernelspec": {
   "display_name": "Python 3.9.12 64-bit",
   "language": "python",
   "name": "python3"
  },
  "language_info": {
   "codemirror_mode": {
    "name": "ipython",
    "version": 3
   },
   "file_extension": ".py",
   "mimetype": "text/x-python",
   "name": "python",
   "nbconvert_exporter": "python",
   "pygments_lexer": "ipython3",
   "version": "3.9.12"
  },
  "orig_nbformat": 4
 },
 "nbformat": 4,
 "nbformat_minor": 2
}
