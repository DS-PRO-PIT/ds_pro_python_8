{
 "cells": [
  {
   "cell_type": "markdown",
   "metadata": {},
   "source": [
    "# Игра угадай число"
   ]
  },
  {
   "cell_type": "markdown",
   "metadata": {},
   "source": [
    "*также смотри раздел [Технические данные о среде выполнения](#технические-данные-о-среде-выполнения) этого документа."
   ]
  },
  {
   "cell_type": "markdown",
   "metadata": {},
   "source": [
    "## Предпосылки"
   ]
  },
  {
   "cell_type": "markdown",
   "metadata": {},
   "source": [
    "Для завершения модуля \"PYTHON-8. Инструменты для Data Science\" ставится задача требующая навыков владения инструментами (изложенными в модуле). Для этого предоставляется код, созданный к этому моменту в рамках модуля."
   ]
  },
  {
   "cell_type": "markdown",
   "metadata": {},
   "source": [
    "Давайте проверим его работоспособность."
   ]
  },
  {
   "cell_type": "markdown",
   "metadata": {},
   "source": [
    "### Импортируем функции модуля"
   ]
  },
  {
   "cell_type": "code",
   "execution_count": 1,
   "metadata": {},
   "outputs": [],
   "source": [
    "from game_v2 import score_game\n",
    "from game_v2 import random_predict"
   ]
  },
  {
   "cell_type": "markdown",
   "metadata": {},
   "source": [
    "Здесь мы делаем доступными функции модуля game_v2:\n",
    "- *score_game* - функция, выявляющая через [среднее арифмитическое](https://ru.wikipedia.org/wiki/Среднее_арифметическое) за сколько попыток переданная ей функция поиска находит результат;\n",
    "- *random_predict* - функция поиска заданного числа [методом научного тыка](https://ru.wikipedia.org/wiki/Метод_проб_и_ошибок) без запоминания истории, возвращающая количество потребовавшихся попыток."
   ]
  },
  {
   "cell_type": "markdown",
   "metadata": {},
   "source": [
    "### Проверим работоспособность *random_predict* несколько раз"
   ]
  },
  {
   "cell_type": "code",
   "execution_count": 7,
   "metadata": {},
   "outputs": [
    {
     "name": "stdout",
     "output_type": "stream",
     "text": [
      "Ваш алгоритм угадывает число в среднем за:98 попыток\n",
      "Ваш алгоритм угадывает число в среднем за:96 попыток\n",
      "Ваш алгоритм угадывает число в среднем за:101 попыток\n",
      "Ваш алгоритм угадывает число в среднем за:96 попыток\n",
      "Ваш алгоритм угадывает число в среднем за:99 попыток\n"
     ]
    },
    {
     "data": {
      "text/plain": [
       "99"
      ]
     },
     "execution_count": 7,
     "metadata": {},
     "output_type": "execute_result"
    }
   ],
   "source": [
    "score_game(random_predict)\n",
    "score_game(random_predict)\n",
    "score_game(random_predict)\n",
    "score_game(random_predict)\n",
    "score_game(random_predict)"
   ]
  },
  {
   "cell_type": "markdown",
   "metadata": {},
   "source": [
    "Как видим, количество требующихся для нахождения заданного числа попыток варьируется около 100."
   ]
  },
  {
   "cell_type": "markdown",
   "metadata": {},
   "source": [
    "## Постановка задачи"
   ]
  },
  {
   "cell_type": "markdown",
   "metadata": {},
   "source": [
    "Взяв предоставленный код за отправную точку добиться следующего:\n",
    "- новая программа должна достигать результата менее чем за 20 попыток;\n",
    "- код программы должен быть предоставлен через GitHub;\n",
    "- также, созданный для решения данной задачи код необходимо оформить соответствующим для GitHub образом;\n",
    "- поскольку код создаётся на языке Python он должен соответствовать PEP8;\n",
    "- как и любой другой код, необходимо, чтобы он был воспроизводим;\n",
    "- **согласно пункту 2 условий задания, должна быть реализована функция которая:**\n",
    "  - для каждой попытки использует случайное число из известного нам диапазона\n",
    "  - начальный диапазон - от 1 до 100;\n",
    "  - очередной диапазон определяется из предыдущего путём отсечения по информации - меньше или больше искомого числа выбранное на предыдущей попытке число.\n",
    "\n",
    "*P.S.: поскольку последний пункт (выделенный жирным) не учитвался при составлении кода, то для его реализации добавлена дополнительная функция (см. раздел [Создание функции поиска методом тыка](#создание-функции-поиска-методом-тыка))*"
   ]
  },
  {
   "cell_type": "markdown",
   "metadata": {},
   "source": [
    "МЕТРИКА КАЧЕСТВА\n",
    "\n",
    "Результаты оцениваются по среднему количеству попыток при 1000 повторений."
   ]
  },
  {
   "cell_type": "markdown",
   "metadata": {},
   "source": [
    "## Выбор алгоритма"
   ]
  },
  {
   "cell_type": "markdown",
   "metadata": {},
   "source": [
    "Возьмём за основу [алоритм бинарного поиска](https://ru.wikipedia.org/wiki/Двоичный_поиск). Следуя его правилам поиск числа от 1 до 100 не должен превысить 7 шагов.\n",
    "\n",
    "Так, например, если загадано число 1, то следуя правилу не оставлять ниже выбранного для попытки числа меньше вариантов чем выше, получим следующие шаги:\n",
    "1. 100/2 = 50 => 51\n",
    "2. 50/2 = 25 => 26\n",
    "3. 25/2 = 12.5 => 13\n",
    "4. 12/2 = 6 => 7\n",
    "5. 6/2 = 3 => 4\n",
    "6. 3/2 = 1.5 => 2\n",
    "7. 1/2 = 0.5 => 1"
   ]
  },
  {
   "cell_type": "markdown",
   "metadata": {},
   "source": [
    "## Организация кода"
   ]
  },
  {
   "cell_type": "markdown",
   "metadata": {},
   "source": [
    "Для обратной совместимости оставим предоставленный код в оригинальном виде. А новый код оформим в файле [*result_game.py*](result_game.py).\n",
    "\n",
    "Предоставим информацию по задаче отредактировав файл [*README.md*](README.md).\n",
    "\n",
    "Воспользуемся имеющимся Jupyter Notebook [*game.ipynb*](game.ipynb), чтобы более подробно зафиксировать процесс выполнения задачи."
   ]
  },
  {
   "cell_type": "markdown",
   "metadata": {},
   "source": [
    "## Создание функции поиска"
   ]
  },
  {
   "cell_type": "markdown",
   "metadata": {},
   "source": [
    "Создадим функцию *binary_search*:"
   ]
  },
  {
   "cell_type": "code",
   "execution_count": 11,
   "metadata": {},
   "outputs": [],
   "source": [
    "from math import log2\n",
    "\n",
    "def binary_search(hidden_number=1):\n",
    "    \n",
    "    interval = (1, 101) # mathematially half-open left-closed interval - [1, 101)\n",
    "    max_attempts_to_panic = int(1 + log2(len(range(*interval))))\n",
    "    \n",
    "    for attempt_index in range(max_attempts_to_panic):\n",
    "        \n",
    "        predict_number = int(sum(interval) / 2)\n",
    "        \n",
    "        if predict_number == hidden_number:\n",
    "            return attempt_index+1\n",
    "\n",
    "        if predict_number < hidden_number:\n",
    "            interval = (predict_number+1, interval[1])\n",
    "        elif hidden_number < predict_number:\n",
    "            interval = (interval[0], predict_number)\n",
    "\n",
    "    raise RuntimeError('Algorithm working not like expected')"
   ]
  },
  {
   "cell_type": "markdown",
   "metadata": {},
   "source": [
    "И проверим её работоспособность уже имеющейся функцией *score_game*:"
   ]
  },
  {
   "cell_type": "code",
   "execution_count": 35,
   "metadata": {},
   "outputs": [
    {
     "name": "stdout",
     "output_type": "stream",
     "text": [
      "Ваш алгоритм угадывает число в среднем за:5 попыток\n",
      "Ваш алгоритм угадывает число в среднем за:5 попыток\n",
      "Ваш алгоритм угадывает число в среднем за:5 попыток\n",
      "Ваш алгоритм угадывает число в среднем за:5 попыток\n",
      "Ваш алгоритм угадывает число в среднем за:5 попыток\n"
     ]
    },
    {
     "data": {
      "text/plain": [
       "5"
      ]
     },
     "execution_count": 35,
     "metadata": {},
     "output_type": "execute_result"
    }
   ],
   "source": [
    "from game_v2 import score_game\n",
    "\n",
    "score_game(binary_search)\n",
    "score_game(binary_search)\n",
    "score_game(binary_search)\n",
    "score_game(binary_search)\n",
    "score_game(binary_search)"
   ]
  },
  {
   "cell_type": "markdown",
   "metadata": {},
   "source": [
    "Таким образом легко убедиться в значительном преимуществе функции *binary_search* перед изначальной *random_predict*."
   ]
  },
  {
   "cell_type": "markdown",
   "metadata": {},
   "source": [
    "Также, можно заметить, что функция *binary_search* использует самоограничение по количеству попыток. Это сделано для того для того, чтобы случайно внесённая (или не выявленная при создании функции) ошибка не приводила к бесконечному циклу.\n",
    "\n",
    "Убедимся в полезности этого самоограничения."
   ]
  },
  {
   "cell_type": "code",
   "execution_count": 56,
   "metadata": {},
   "outputs": [
    {
     "ename": "RuntimeError",
     "evalue": "Algorithm working not like expected",
     "output_type": "error",
     "traceback": [
      "\u001b[0;31m---------------------------------------------------------------------------\u001b[0m",
      "\u001b[0;31mRuntimeError\u001b[0m                              Traceback (most recent call last)",
      "\u001b[1;32m/home/user/github/python_8/game.ipynb Cell 25'\u001b[0m in \u001b[0;36m<cell line: 1>\u001b[0;34m()\u001b[0m\n\u001b[0;32m----> <a href='vscode-notebook-cell:/home/user/github/python_8/game.ipynb#ch0000034?line=0'>1</a>\u001b[0m binary_search(\u001b[39m0\u001b[39;49m)\n",
      "\u001b[1;32m/home/user/github/python_8/game.ipynb Cell 20'\u001b[0m in \u001b[0;36mbinary_search\u001b[0;34m(hidden_number)\u001b[0m\n\u001b[1;32m     <a href='vscode-notebook-cell:/home/user/github/python_8/game.ipynb#ch0000027?line=15'>16</a>\u001b[0m     \u001b[39melif\u001b[39;00m hidden_number \u001b[39m<\u001b[39m predict_number:\n\u001b[1;32m     <a href='vscode-notebook-cell:/home/user/github/python_8/game.ipynb#ch0000027?line=16'>17</a>\u001b[0m         interval \u001b[39m=\u001b[39m (interval[\u001b[39m0\u001b[39m], predict_number)\n\u001b[0;32m---> <a href='vscode-notebook-cell:/home/user/github/python_8/game.ipynb#ch0000027?line=18'>19</a>\u001b[0m \u001b[39mraise\u001b[39;00m \u001b[39mRuntimeError\u001b[39;00m(\u001b[39m'\u001b[39m\u001b[39mAlgorithm working not like expected\u001b[39m\u001b[39m'\u001b[39m)\n",
      "\u001b[0;31mRuntimeError\u001b[0m: Algorithm working not like expected"
     ]
    }
   ],
   "source": [
    "binary_search(0)"
   ]
  },
  {
   "cell_type": "markdown",
   "metadata": {},
   "source": [
    "Однако, если задать выходящее за диапазон число 101:"
   ]
  },
  {
   "cell_type": "code",
   "execution_count": 58,
   "metadata": {},
   "outputs": [
    {
     "data": {
      "text/plain": [
       "7"
      ]
     },
     "execution_count": 58,
     "metadata": {},
     "output_type": "execute_result"
    }
   ],
   "source": [
    "binary_search(101)"
   ]
  },
  {
   "cell_type": "markdown",
   "metadata": {},
   "source": [
    "То мы увидим, что фунция отработала, но не ожиданным образом. А именно нашла число не входящее в диапазон.\n",
    "\n",
    "Что очередной раз свидетельствует о необходимости проверки входных параметров. Доработаем функцию *binary_search*."
   ]
  },
  {
   "cell_type": "code",
   "execution_count": 4,
   "metadata": {},
   "outputs": [],
   "source": [
    "from math import log2\n",
    "\n",
    "def binary_search(hidden_number=1):\n",
    "    if not(1 <= hidden_number <= 100):\n",
    "        raise ValueError('Expected value from 1 to 100')\n",
    "    \n",
    "    interval = (1, 101) # mathematially half-open left-closed interval - [1, 101)\n",
    "    max_attempts_to_panic = int(1 + log2(len(range(*interval))))\n",
    "    \n",
    "    for attempt_index in range(max_attempts_to_panic):\n",
    "        \n",
    "        predict_number = int(sum(interval) / 2)\n",
    "        \n",
    "        if predict_number == hidden_number:\n",
    "            return attempt_index+1\n",
    "\n",
    "        if predict_number < hidden_number:\n",
    "            interval = (predict_number+1, interval[1])\n",
    "        elif hidden_number < predict_number:\n",
    "            interval = (interval[0], predict_number)\n",
    "\n",
    "    raise RuntimeError('Algorithm working not like expected')"
   ]
  },
  {
   "cell_type": "markdown",
   "metadata": {},
   "source": [
    "Проверим снова:"
   ]
  },
  {
   "cell_type": "code",
   "execution_count": 60,
   "metadata": {},
   "outputs": [
    {
     "ename": "ValueError",
     "evalue": "Expected value from 1 to 100",
     "output_type": "error",
     "traceback": [
      "\u001b[0;31m---------------------------------------------------------------------------\u001b[0m",
      "\u001b[0;31mValueError\u001b[0m                                Traceback (most recent call last)",
      "\u001b[1;32m/home/user/github/python_8/game.ipynb Cell 31'\u001b[0m in \u001b[0;36m<cell line: 1>\u001b[0;34m()\u001b[0m\n\u001b[0;32m----> <a href='vscode-notebook-cell:/home/user/github/python_8/game.ipynb#ch0000041?line=0'>1</a>\u001b[0m binary_search(\u001b[39m101\u001b[39;49m)\n",
      "\u001b[1;32m/home/user/github/python_8/game.ipynb Cell 29'\u001b[0m in \u001b[0;36mbinary_search\u001b[0;34m(hidden_number)\u001b[0m\n\u001b[1;32m      <a href='vscode-notebook-cell:/home/user/github/python_8/game.ipynb#ch0000039?line=2'>3</a>\u001b[0m \u001b[39mdef\u001b[39;00m \u001b[39mbinary_search\u001b[39m(hidden_number\u001b[39m=\u001b[39m\u001b[39m1\u001b[39m):\n\u001b[1;32m      <a href='vscode-notebook-cell:/home/user/github/python_8/game.ipynb#ch0000039?line=3'>4</a>\u001b[0m     \u001b[39mif\u001b[39;00m \u001b[39mnot\u001b[39;00m(\u001b[39m1\u001b[39m \u001b[39m<\u001b[39m\u001b[39m=\u001b[39m hidden_number \u001b[39m<\u001b[39m\u001b[39m=\u001b[39m \u001b[39m100\u001b[39m):\n\u001b[0;32m----> <a href='vscode-notebook-cell:/home/user/github/python_8/game.ipynb#ch0000039?line=4'>5</a>\u001b[0m         \u001b[39mraise\u001b[39;00m \u001b[39mValueError\u001b[39;00m(\u001b[39m'\u001b[39m\u001b[39mExpected value from 1 to 100\u001b[39m\u001b[39m'\u001b[39m)\n\u001b[1;32m      <a href='vscode-notebook-cell:/home/user/github/python_8/game.ipynb#ch0000039?line=6'>7</a>\u001b[0m     interval \u001b[39m=\u001b[39m (\u001b[39m1\u001b[39m, \u001b[39m101\u001b[39m) \u001b[39m# mathematially half-open left-closed interval - [1, 101)\u001b[39;00m\n\u001b[1;32m      <a href='vscode-notebook-cell:/home/user/github/python_8/game.ipynb#ch0000039?line=7'>8</a>\u001b[0m     max_attempts_to_panic \u001b[39m=\u001b[39m \u001b[39mint\u001b[39m(\u001b[39m1\u001b[39m \u001b[39m+\u001b[39m log2(\u001b[39mlen\u001b[39m(\u001b[39mrange\u001b[39m(\u001b[39m*\u001b[39minterval))))\n",
      "\u001b[0;31mValueError\u001b[0m: Expected value from 1 to 100"
     ]
    }
   ],
   "source": [
    "binary_search(101)"
   ]
  },
  {
   "cell_type": "markdown",
   "metadata": {},
   "source": [
    "Теперь можно сказать, что функция работает как надо. И хотя необходимость проверки входных параметров на соответсвие типу никто не отменял, будем считать, что поставленная задача выполнена. Поскольку в реальных задачах проверка входных параметров истекает из логики построения кода и излишние проверки только замедлят выполнение кода поставленной задачи."
   ]
  },
  {
   "cell_type": "markdown",
   "metadata": {},
   "source": [
    "## Проверка функции поиска"
   ]
  },
  {
   "cell_type": "markdown",
   "metadata": {},
   "source": [
    "Используя существующую функцию *score_game* мы убедились в качестве созданной функции *binary_search*. Задание, тем не менее гласит: \"новая программа должна достигать результата менее чем за 20 попыток\".\n",
    "\n",
    "Создадим аналогичную *score_game* функцию для такой проверки и назовём её *reveal_max_attempts*."
   ]
  },
  {
   "cell_type": "code",
   "execution_count": 5,
   "metadata": {},
   "outputs": [],
   "source": [
    "import numpy as np\n",
    "\n",
    "def reveal_max_attempts(search_function,\n",
    "                       number_of_repetitions: int = 1000) -> int:\n",
    "    \n",
    "    hidden_numbers = np.random.randint(1, 101, size=number_of_repetitions)\n",
    "    \n",
    "    attempts_count = []\n",
    "    for hidden_number in hidden_numbers:\n",
    "        attempts_count.append(search_function(hidden_number))\n",
    "        \n",
    "    max_attempt_count = max(*attempts_count)\n",
    "    print(f'Search algorithm needs maximum {max_attempt_count} attempts count')\n",
    "    \n",
    "    return max_attempt_count"
   ]
  },
  {
   "cell_type": "markdown",
   "metadata": {},
   "source": [
    "И на практике убедимся в достаточности функции *binary_search*:"
   ]
  },
  {
   "cell_type": "code",
   "execution_count": 5,
   "metadata": {},
   "outputs": [
    {
     "name": "stdout",
     "output_type": "stream",
     "text": [
      "Search algorithm needs maximum 7 attempts count\n",
      "Search algorithm needs maximum 7 attempts count\n",
      "Search algorithm needs maximum 7 attempts count\n",
      "Search algorithm needs maximum 7 attempts count\n",
      "Search algorithm needs maximum 7 attempts count\n"
     ]
    },
    {
     "data": {
      "text/plain": [
       "7"
      ]
     },
     "execution_count": 5,
     "metadata": {},
     "output_type": "execute_result"
    }
   ],
   "source": [
    "reveal_max_attempts(binary_search)\n",
    "reveal_max_attempts(binary_search)\n",
    "reveal_max_attempts(binary_search)\n",
    "reveal_max_attempts(binary_search)\n",
    "reveal_max_attempts(binary_search)"
   ]
  },
  {
   "cell_type": "markdown",
   "metadata": {},
   "source": [
    "## Оценка функции поиска"
   ]
  },
  {
   "cell_type": "markdown",
   "metadata": {},
   "source": [
    "Ранее мы воспользовались предоставленной функцией *score_game* для оценки функции *binary_search*. Но, чтобы эта функциональность была доступна в создаваемом модуле, а также код соответствовал PEP8, создадим функцию *score_attempts*."
   ]
  },
  {
   "cell_type": "code",
   "execution_count": 3,
   "metadata": {},
   "outputs": [],
   "source": [
    "import numpy as np\n",
    "\n",
    "def score_attempts(search_function,\n",
    "                   number_of_repetitions: int = 1000) -> int:\n",
    "    \n",
    "    hidden_numbers = np.random.randint(1, 101, size=number_of_repetitions)\n",
    "    \n",
    "    attempts_count = []\n",
    "    for hidden_number in hidden_numbers:\n",
    "        attempts_count.append(search_function(hidden_number))\n",
    "    \n",
    "    score = int(np.mean(attempts_count))\n",
    "    print(f'Search algorithm needs {score} attempts')\n",
    "    \n",
    "    return score"
   ]
  },
  {
   "cell_type": "markdown",
   "metadata": {},
   "source": [
    "И воспользуемся ей:"
   ]
  },
  {
   "cell_type": "code",
   "execution_count": 7,
   "metadata": {},
   "outputs": [
    {
     "name": "stdout",
     "output_type": "stream",
     "text": [
      "Search algorithm needs 5 attempts\n",
      "Search algorithm needs 5 attempts\n",
      "Search algorithm needs 5 attempts\n",
      "Search algorithm needs 5 attempts\n",
      "Search algorithm needs 5 attempts\n"
     ]
    },
    {
     "data": {
      "text/plain": [
       "5"
      ]
     },
     "execution_count": 7,
     "metadata": {},
     "output_type": "execute_result"
    }
   ],
   "source": [
    "score_attempts(binary_search)\n",
    "score_attempts(binary_search)\n",
    "score_attempts(binary_search)\n",
    "score_attempts(binary_search)\n",
    "score_attempts(binary_search)"
   ]
  },
  {
   "cell_type": "markdown",
   "metadata": {},
   "source": [
    "Как видно, количество шагов уменьшилось в 20 раз."
   ]
  },
  {
   "cell_type": "markdown",
   "metadata": {},
   "source": [
    "## Создание функции поиска методом тыка"
   ]
  },
  {
   "cell_type": "markdown",
   "metadata": {},
   "source": [
    "Создадим функцию *random_binary_search*, которая совмещает в себе случайный выбор очередного числа и сужение диапазона поиска."
   ]
  },
  {
   "cell_type": "code",
   "execution_count": 1,
   "metadata": {},
   "outputs": [],
   "source": [
    "import numpy as np\n",
    "\n",
    "def random_binary_search(hidden_number: int = 1) -> int:\n",
    "    if not(1 <= hidden_number <= 100):\n",
    "        raise ValueError('Expected value from 1 to 100')\n",
    "    \n",
    "    if not(1 <= hidden_number <= 100):\n",
    "        raise ValueError('Expected value from 1 to 100')\n",
    "    \n",
    "    interval = (1, 101) # mathematially half-open left-closed interval - [1, 101)\n",
    "    max_attempts_to_panic = 1 + len(range(*interval))\n",
    "    \n",
    "    for attempt_index in range(max_attempts_to_panic):\n",
    "        \n",
    "        predict_number = np.random.randint(*interval)\n",
    "\n",
    "        if predict_number == hidden_number:\n",
    "            return attempt_index+1\n",
    "\n",
    "        if predict_number < hidden_number:\n",
    "            interval = (predict_number+1, interval[1])\n",
    "        elif hidden_number < predict_number:\n",
    "            interval = (interval[0], predict_number)\n",
    "\n",
    "    raise RuntimeError('Algorithm working not like expected')"
   ]
  },
  {
   "cell_type": "markdown",
   "metadata": {},
   "source": [
    "## Оценка функции поиска методом тыка"
   ]
  },
  {
   "cell_type": "markdown",
   "metadata": {},
   "source": [
    "### Согласно метрике качества"
   ]
  },
  {
   "cell_type": "code",
   "execution_count": 16,
   "metadata": {},
   "outputs": [
    {
     "name": "stdout",
     "output_type": "stream",
     "text": [
      "Search algorithm needs 7 attempts\n",
      "Search algorithm needs 7 attempts\n",
      "Search algorithm needs 7 attempts\n",
      "Search algorithm needs 7 attempts\n",
      "Search algorithm needs 7 attempts\n"
     ]
    },
    {
     "data": {
      "text/plain": [
       "7"
      ]
     },
     "execution_count": 16,
     "metadata": {},
     "output_type": "execute_result"
    }
   ],
   "source": [
    "score_attempts(random_binary_search)\n",
    "score_attempts(random_binary_search)\n",
    "score_attempts(random_binary_search)\n",
    "score_attempts(random_binary_search)\n",
    "score_attempts(random_binary_search)"
   ]
  },
  {
   "cell_type": "markdown",
   "metadata": {},
   "source": [
    "### На максимальное количество попыток"
   ]
  },
  {
   "cell_type": "code",
   "execution_count": 28,
   "metadata": {},
   "outputs": [
    {
     "name": "stdout",
     "output_type": "stream",
     "text": [
      "Search algorithm needs maximum 16 attempts count\n",
      "Search algorithm needs maximum 18 attempts count\n",
      "Search algorithm needs maximum 16 attempts count\n",
      "Search algorithm needs maximum 17 attempts count\n",
      "Search algorithm needs maximum 17 attempts count\n"
     ]
    },
    {
     "data": {
      "text/plain": [
       "17"
      ]
     },
     "execution_count": 28,
     "metadata": {},
     "output_type": "execute_result"
    }
   ],
   "source": [
    "reveal_max_attempts(random_binary_search)\n",
    "reveal_max_attempts(random_binary_search)\n",
    "reveal_max_attempts(random_binary_search)\n",
    "reveal_max_attempts(random_binary_search)\n",
    "reveal_max_attempts(random_binary_search)"
   ]
  },
  {
   "cell_type": "markdown",
   "metadata": {},
   "source": [
    "### Факты\n",
    "\n",
    "- функция *random_binary_search* (основанная на методе тыка), как и функция *binary_search* (основанная на половинном делении), является сходящейся и выполняется за ограниченное количество шагов. В отличии от функции *random_predict*\n",
    "- согласно метрике качества (функция *score_attempts*):\n",
    "  - функция *binary_search* выполняется за 5 шагов\n",
    "  - функция *random_binary_search* выполняется за 7 шагов\n",
    "  - функция *random_predict* выполняется за 100 шагов\n",
    "- согласно *reveal_max_attempts* (максимальное количество шагов в большинстве случаев):\n",
    "  - функция *binary_search* - 7 шагов\n",
    "  - функция *random_binary_search* - 18 шагов\n",
    "  - функция *random_predict* - 850 шагов\n",
    "- для реализации функции *random_binary_search* не требуется знание и воплощение специальных теорий. В отличии от функции *binary_search*"
   ]
  },
  {
   "cell_type": "code",
   "execution_count": 33,
   "metadata": {},
   "outputs": [
    {
     "name": "stdout",
     "output_type": "stream",
     "text": [
      "Search algorithm needs maximum 759 attempts count\n",
      "Search algorithm needs maximum 832 attempts count\n",
      "Search algorithm needs maximum 620 attempts count\n",
      "Search algorithm needs maximum 670 attempts count\n",
      "Search algorithm needs maximum 575 attempts count\n"
     ]
    },
    {
     "data": {
      "text/plain": [
       "575"
      ]
     },
     "execution_count": 33,
     "metadata": {},
     "output_type": "execute_result"
    }
   ],
   "source": [
    "from game_v2 import random_predict\n",
    "\n",
    "reveal_max_attempts(random_predict)\n",
    "reveal_max_attempts(random_predict)\n",
    "reveal_max_attempts(random_predict)\n",
    "reveal_max_attempts(random_predict)\n",
    "reveal_max_attempts(random_predict)"
   ]
  },
  {
   "cell_type": "markdown",
   "metadata": {},
   "source": [
    "### Выводы\n",
    "\n",
    "- для достижения цели достаточна функция *random_binary_search*\n",
    "- функция *binary_search* требует:\n",
    "  - специальных знаний\n",
    "  - дополнительного времени на их воплощение (написание и отладка кода)\n",
    "- функция *binary_search* (по сравнению с функцией *random_binary_search*) не предлагает значительный прирост в большинстве случаев\n",
    "- функция *random_binary_search* в большинстве случаев укладывается в 20 шагов\n",
    "\n",
    "Я бы сравнил функции *binary_search* и *random_binary_search* как результат работы: 1) программиста по заданию аналитика, и; 2) дата сайентиста.\n",
    "\n",
    "Т.е.:\n",
    "- в качестве быстрого решения следует создать такую функцию, как *random_binary_search*\n",
    "- а при необходимости и возможности можно создать специальную версию, такую как функция *binary_search*"
   ]
  },
  {
   "cell_type": "markdown",
   "metadata": {},
   "source": [
    "## GitHub"
   ]
  },
  {
   "cell_type": "markdown",
   "metadata": {},
   "source": [
    "Для того, чтобы опубликованый на GitHub код был доступен для понимания без необходимости его изучения, оформим поясняющий файл [*README.md*](README.md)."
   ]
  },
  {
   "cell_type": "markdown",
   "metadata": {},
   "source": [
    "### Технические данные о среде выполнения"
   ]
  },
  {
   "cell_type": "markdown",
   "metadata": {},
   "source": [
    "Для воспроизводимости, приведём информацию о системе, на которой разрабатывался код."
   ]
  },
  {
   "cell_type": "code",
   "execution_count": 4,
   "metadata": {},
   "outputs": [
    {
     "name": "stdout",
     "output_type": "stream",
     "text": [
      "DISTRIB_ID=Ubuntu\n",
      "DISTRIB_RELEASE=20.04\n",
      "DISTRIB_CODENAME=focal\n",
      "DISTRIB_DESCRIPTION=\"Ubuntu 20.04.4 LTS\"\n"
     ]
    },
    {
     "data": {
      "text/plain": [
       "CompletedProcess(args=['cat', '/etc/lsb-release'], returncode=0)"
      ]
     },
     "execution_count": 4,
     "metadata": {},
     "output_type": "execute_result"
    }
   ],
   "source": [
    "#cat /etc/lsb-release \n",
    "import subprocess\n",
    "subprocess.run([\"cat\", \"/etc/lsb-release\"])"
   ]
  },
  {
   "cell_type": "code",
   "execution_count": 5,
   "metadata": {},
   "outputs": [
    {
     "name": "stdout",
     "output_type": "stream",
     "text": [
      "5.13.0-41-generic\n"
     ]
    },
    {
     "data": {
      "text/plain": [
       "CompletedProcess(args=['uname', '-r'], returncode=0)"
      ]
     },
     "execution_count": 5,
     "metadata": {},
     "output_type": "execute_result"
    }
   ],
   "source": [
    "#uname -r\n",
    "import subprocess\n",
    "subprocess.run([\"uname\", \"-r\"])"
   ]
  },
  {
   "cell_type": "code",
   "execution_count": 7,
   "metadata": {},
   "outputs": [
    {
     "name": "stdout",
     "output_type": "stream",
     "text": [
      "apturl==0.5.2\n",
      "argon2-cffi==21.3.0\n",
      "argon2-cffi-bindings==21.2.0\n",
      "asttokens==2.0.5\n",
      "attrs==21.4.0\n",
      "backcall==0.2.0\n",
      "bcrypt==3.1.7\n",
      "beautifulsoup4==4.11.1\n",
      "bleach==5.0.0\n",
      "blinker==1.4\n",
      "Brlapi==0.7.0\n",
      "certifi==2019.11.28\n",
      "cffi==1.15.0\n",
      "chardet==3.0.4\n",
      "Click==7.0\n",
      "colorama==0.4.3\n",
      "command-not-found==0.3\n",
      "cryptography==2.8\n",
      "cupshelpers==1.0\n",
      "dbus-python==1.2.16\n",
      "debugpy==1.6.0\n",
      "decorator==5.1.1\n",
      "defer==1.0.6\n",
      "defusedxml==0.7.1\n",
      "distro==1.4.0\n",
      "distro-info===0.23ubuntu1\n",
      "duplicity==0.8.12.0\n",
      "entrypoints==0.3\n",
      "executing==0.8.3\n",
      "fasteners==0.14.1\n",
      "fastjsonschema==2.15.3\n",
      "future==0.18.2\n",
      "httplib2==0.14.0\n",
      "idna==2.8\n",
      "ipykernel==6.13.0\n",
      "ipython==8.3.0\n",
      "ipython-genutils==0.2.0\n",
      "ipywidgets==7.7.0\n",
      "jedi==0.18.1\n",
      "Jinja2==3.1.2\n",
      "jsonschema==4.4.0\n",
      "jupyter==1.0.0\n",
      "jupyter-client==7.3.0\n",
      "jupyter-console==6.4.3\n",
      "jupyter-core==4.10.0\n",
      "jupyterlab-pygments==0.2.2\n",
      "jupyterlab-widgets==1.1.0\n",
      "keyring==18.0.1\n",
      "language-selector==0.1\n",
      "launchpadlib==1.10.13\n",
      "lazr.restfulclient==0.14.2\n",
      "lazr.uri==1.0.3\n",
      "lockfile==0.12.2\n",
      "louis==3.12.0\n",
      "macaroonbakery==1.3.1\n",
      "Mako==1.1.0\n",
      "MarkupSafe==2.1.1\n",
      "matplotlib-inline==0.1.3\n",
      "mistune==0.8.4\n",
      "monotonic==1.5\n",
      "nbclient==0.6.0\n",
      "nbconvert==6.5.0\n",
      "nbformat==5.3.0\n",
      "nest-asyncio==1.5.5\n",
      "netifaces==0.10.4\n",
      "notebook==6.4.11\n",
      "numpy==1.22.3\n",
      "oauthlib==3.1.0\n",
      "olefile==0.46\n",
      "packaging==21.3\n",
      "pandocfilters==1.5.0\n",
      "paramiko==2.6.0\n",
      "parso==0.8.3\n",
      "pexpect==4.6.0\n",
      "pickleshare==0.7.5\n",
      "Pillow==7.0.0\n",
      "prometheus-client==0.14.1\n",
      "prompt-toolkit==3.0.29\n",
      "protobuf==3.6.1\n",
      "psutil==5.9.0\n",
      "ptyprocess==0.7.0\n",
      "pure-eval==0.2.2\n",
      "pycairo==1.16.2\n",
      "pycparser==2.21\n",
      "pycups==1.9.73\n",
      "Pygments==2.12.0\n",
      "PyGObject==3.36.0\n",
      "PyJWT==1.7.1\n",
      "pymacaroons==0.13.0\n",
      "PyNaCl==1.3.0\n",
      "pyparsing==3.0.8\n",
      "pyRFC3339==1.1\n",
      "pyrsistent==0.18.1\n",
      "python-apt==2.0.0+ubuntu0.20.4.7\n",
      "python-dateutil==2.8.2\n",
      "python-debian===0.1.36ubuntu1\n",
      "pytz==2019.3\n",
      "pyxdg==0.26\n",
      "PyYAML==5.3.1\n",
      "pyzmq==22.3.0\n",
      "qtconsole==5.3.0\n",
      "QtPy==2.0.1\n",
      "reportlab==3.5.34\n",
      "requests==2.22.0\n",
      "requests-unixsocket==0.2.0\n",
      "SecretStorage==2.3.1\n",
      "Send2Trash==1.8.0\n",
      "simplejson==3.16.0\n",
      "six==1.14.0\n",
      "soupsieve==2.3.2.post1\n",
      "stack-data==0.2.0\n",
      "systemd-python==234\n",
      "terminado==0.13.3\n",
      "tinycss2==1.1.1\n",
      "tornado==6.1\n",
      "traitlets==5.1.1\n",
      "ubuntu-advantage-tools==27.7\n",
      "ubuntu-drivers-common==0.0.0\n",
      "ufw==0.36\n",
      "unattended-upgrades==0.1\n",
      "urllib3==1.25.8\n",
      "usb-creator==0.3.7\n",
      "wadllib==1.3.3\n",
      "wcwidth==0.2.5\n",
      "webencodings==0.5.1\n",
      "widgetsnbextension==3.6.0\n",
      "xkit==0.0.0\n"
     ]
    }
   ],
   "source": [
    "import subprocess\n",
    "#pip freeze\n",
    "subprocess.run(['pip', 'freeze'])\n",
    "#pip freeze > requirements.txt\n",
    "with open('requirements.txt', 'w') as outfile:\n",
    "    subprocess.run(['pip', 'freeze'], stdout=outfile, stderr=subprocess.STDOUT)"
   ]
  },
  {
   "cell_type": "code",
   "execution_count": 8,
   "metadata": {},
   "outputs": [
    {
     "name": "stdout",
     "output_type": "stream",
     "text": [
      "3.9.12 (main, Apr 18 2022, 22:40:46) \n",
      "[GCC 9.4.0]\n"
     ]
    }
   ],
   "source": [
    "import sys\n",
    "print(sys.version)"
   ]
  },
  {
   "cell_type": "markdown",
   "metadata": {},
   "source": [
    "### GitHub Actions, Manual workflow и воспроизводимость кода"
   ]
  },
  {
   "cell_type": "markdown",
   "metadata": {},
   "source": [
    "> Чтобы собственноручно убедиться в работоспособности предоставленного здесь метода, можете сделать [форк](https://github.com/web-standards-ru/dictionary/blob/main/git.md#fork) этого [репозитория](https://github.com/web-standards-ru/dictionary/blob/main/git.md#repository) или проделать необходимые шаги в собственном репозитории вручную."
   ]
  },
  {
   "cell_type": "markdown",
   "metadata": {},
   "source": [
    "Поставим перед собой задачу воспроизвести работоспособность кода используя GitHub Actions."
   ]
  },
  {
   "cell_type": "markdown",
   "metadata": {},
   "source": [
    "Оформим проверочный код в файл [test_game.py](test_game.py):"
   ]
  },
  {
   "cell_type": "code",
   "execution_count": 9,
   "metadata": {},
   "outputs": [
    {
     "name": "stdout",
     "output_type": "stream",
     "text": [
      "\n",
      "random_predict (score_attempts):\n",
      "Search algorithm needs 103 attempts\n",
      "Search algorithm needs 104 attempts\n",
      "Search algorithm needs 102 attempts\n",
      "Search algorithm needs 97 attempts\n",
      "Search algorithm needs 98 attempts\n",
      "\n",
      "random_binary_search (score_attempts):\n",
      "Search algorithm needs 7 attempts\n",
      "Search algorithm needs 7 attempts\n",
      "Search algorithm needs 7 attempts\n",
      "Search algorithm needs 7 attempts\n",
      "Search algorithm needs 7 attempts\n",
      "\n",
      "binary_search (score_attempts):\n",
      "Search algorithm needs 5 attempts\n",
      "Search algorithm needs 5 attempts\n",
      "Search algorithm needs 5 attempts\n",
      "Search algorithm needs 5 attempts\n",
      "Search algorithm needs 5 attempts\n",
      "\n",
      "random_predict (reveal_max_attempts):\n",
      "Search algorithm needs maximum 695 attempts count\n",
      "Search algorithm needs maximum 1230 attempts count\n",
      "Search algorithm needs maximum 757 attempts count\n",
      "Search algorithm needs maximum 622 attempts count\n",
      "Search algorithm needs maximum 862 attempts count\n",
      "\n",
      "random_binary_search (reveal_max_attempts):\n",
      "Search algorithm needs maximum 15 attempts count\n",
      "Search algorithm needs maximum 18 attempts count\n",
      "Search algorithm needs maximum 18 attempts count\n",
      "Search algorithm needs maximum 18 attempts count\n",
      "Search algorithm needs maximum 17 attempts count\n",
      "\n",
      "binary_search (reveal_max_attempts):\n",
      "Search algorithm needs maximum 7 attempts count\n",
      "Search algorithm needs maximum 7 attempts count\n",
      "Search algorithm needs maximum 7 attempts count\n",
      "Search algorithm needs maximum 7 attempts count\n",
      "Search algorithm needs maximum 7 attempts count\n"
     ]
    },
    {
     "data": {
      "text/plain": [
       "7"
      ]
     },
     "execution_count": 9,
     "metadata": {},
     "output_type": "execute_result"
    }
   ],
   "source": [
    "\n",
    "from game_v2 import random_predict\n",
    "from result_game import random_binary_search, binary_search\n",
    "from result_game import reveal_max_attempts, score_attempts\n",
    "\n",
    "print()\n",
    "print('random_predict (score_attempts):')\n",
    "score_attempts(random_predict)\n",
    "score_attempts(random_predict)\n",
    "score_attempts(random_predict)\n",
    "score_attempts(random_predict)\n",
    "score_attempts(random_predict)\n",
    "\n",
    "print()\n",
    "print('random_binary_search (score_attempts):')\n",
    "score_attempts(random_binary_search)\n",
    "score_attempts(random_binary_search)\n",
    "score_attempts(random_binary_search)\n",
    "score_attempts(random_binary_search)\n",
    "score_attempts(random_binary_search)\n",
    "\n",
    "print()\n",
    "print('binary_search (score_attempts):')\n",
    "score_attempts(binary_search)\n",
    "score_attempts(binary_search)\n",
    "score_attempts(binary_search)\n",
    "score_attempts(binary_search)\n",
    "score_attempts(binary_search)\n",
    "\n",
    "print()\n",
    "print('random_predict (reveal_max_attempts):')\n",
    "reveal_max_attempts(random_predict)\n",
    "reveal_max_attempts(random_predict)\n",
    "reveal_max_attempts(random_predict)\n",
    "reveal_max_attempts(random_predict)\n",
    "reveal_max_attempts(random_predict)\n",
    "\n",
    "print()\n",
    "print('random_binary_search (reveal_max_attempts):')\n",
    "reveal_max_attempts(random_binary_search)\n",
    "reveal_max_attempts(random_binary_search)\n",
    "reveal_max_attempts(random_binary_search)\n",
    "reveal_max_attempts(random_binary_search)\n",
    "reveal_max_attempts(random_binary_search)\n",
    "\n",
    "print()\n",
    "print('binary_search (reveal_max_attempts):')\n",
    "reveal_max_attempts(binary_search)\n",
    "reveal_max_attempts(binary_search)\n",
    "reveal_max_attempts(binary_search)\n",
    "reveal_max_attempts(binary_search)\n",
    "reveal_max_attempts(binary_search)"
   ]
  },
  {
   "cell_type": "markdown",
   "metadata": {},
   "source": [
    "В качестве отправной точки, воспользуемся (Automation) Manual workflow."
   ]
  },
  {
   "cell_type": "markdown",
   "metadata": {},
   "source": [
    "Создадим файл `.github/workflows/`[`reproduce.yml`](.github/workflows/reproduce.yml):\n",
    "```\n",
    "name: Воспроизводимость кода\n",
    "\n",
    "on: workflow_dispatch\n",
    "\n",
    "jobs:\n",
    "  reproduce:\n",
    "    name: Воспроизводимость кода\n",
    "    runs-on: ubuntu-latest\n",
    "\n",
    "    steps:\n",
    "    - uses: actions/checkout@v1\n",
    "    - name: Reproducing\n",
    "      uses: ./reproduce\n",
    "```"
   ]
  },
  {
   "cell_type": "markdown",
   "metadata": {},
   "source": [
    "**А также:**"
   ]
  },
  {
   "cell_type": "markdown",
   "metadata": {},
   "source": [
    "Файл `reproduce/`[`action.yml`](reproduce/action.yml):\n",
    "```\n",
    "runs:\n",
    "  using: \"docker\"\n",
    "  image: \"Dockerfile\"\n",
    "```"
   ]
  },
  {
   "cell_type": "markdown",
   "metadata": {},
   "source": [
    "Файл `reproduce/`[`Dockerfile`](reproduce/Dockerfile):\n",
    "```\n",
    "FROM python:3.9-slim\n",
    "\n",
    "COPY requirements.txt /requirements.txt\n",
    "RUN pip install --no-cache-dir -r /requirements.txt\n",
    "\n",
    "COPY entrypoint.sh /entrypoint.sh\n",
    "RUN chmod +x /entrypoint.sh\n",
    "ENTRYPOINT [\"/entrypoint.sh\"]\n",
    "```"
   ]
  },
  {
   "cell_type": "markdown",
   "metadata": {},
   "source": [
    "Файл `reproduce/`[`entrypoint.sh`](reproduce/entrypoint.sh):\n",
    "```\n",
    "#!/bin/sh -l\n",
    "\n",
    "python test_game.py\n",
    "\n",
    "sh -c \"echo\"\n",
    "sh -c \"echo \\#cat /etc/os-release\"\n",
    "sh -c \"cat /etc/os-release\"\n",
    "\n",
    "sh -c \"echo\"\n",
    "sh -c \"echo \\#uname -r\"\n",
    "sh -c \"uname -r\"\n",
    "\n",
    "sh -c \"echo\"\n",
    "sh -c \"echo \\#python --version\"\n",
    "sh -c \"python --version\"\n",
    "\n",
    "echo\n",
    "echo \\#pip freeze --no-cache-dir\n",
    "pip freeze --no-cache-dir\n",
    "```"
   ]
  },
  {
   "cell_type": "markdown",
   "metadata": {},
   "source": [
    "И файл `reproduce/`[`requirements.txt`](reproduce/requirements.txt):\n",
    "```\n",
    "numpy==1.22.3\n",
    "```"
   ]
  },
  {
   "cell_type": "markdown",
   "metadata": {},
   "source": [
    "В последний внесём необходимые нам строки из созданного ранее [requirements.txt](requirements.txt)"
   ]
  },
  {
   "cell_type": "markdown",
   "metadata": {},
   "source": [
    "Перейдём к GitHub Actions, выберем workflow `Воспроизводимость кода` и запустим его через `Run workflow -> Run workflow`."
   ]
  },
  {
   "cell_type": "markdown",
   "metadata": {},
   "source": [
    "Дождёмся появления выполнения workflow `Воспроизводимость кода` и перейдём к нему.\n",
    "По окончании выполнения (наличие зелёной галочки) выберем `Воспроизводимость кода` под `reproduce.yml`, раскроем шаг \"Reproducing\" и убедимся в том, что код выполнился как и ожидалось."
   ]
  }
 ],
 "metadata": {
  "interpreter": {
   "hash": "f9f85f796d01129d0dd105a088854619f454435301f6ffec2fea96ecbd9be4ac"
  },
  "kernelspec": {
   "display_name": "Python 3.9.12 64-bit",
   "language": "python",
   "name": "python3"
  },
  "language_info": {
   "codemirror_mode": {
    "name": "ipython",
    "version": 3
   },
   "file_extension": ".py",
   "mimetype": "text/x-python",
   "name": "python",
   "nbconvert_exporter": "python",
   "pygments_lexer": "ipython3",
   "version": "3.9.12"
  },
  "orig_nbformat": 4
 },
 "nbformat": 4,
 "nbformat_minor": 2
}
